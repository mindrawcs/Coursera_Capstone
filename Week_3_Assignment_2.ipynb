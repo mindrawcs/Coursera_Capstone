{
  "nbformat": 4,
  "nbformat_minor": 0,
  "metadata": {
    "colab": {
      "name": "Week 3 Assignment-2.ipynb",
      "provenance": []
    },
    "kernelspec": {
      "name": "python3",
      "display_name": "Python 3"
    }
  },
  "cells": [
    {
      "cell_type": "markdown",
      "metadata": {
        "id": "pxwhjVU05TU1",
        "colab_type": "text"
      },
      "source": [
        "## 1. Extract Table from Wikipedia Pages\n"
      ]
    },
    {
      "cell_type": "code",
      "metadata": {
        "id": "5AIe__4HvBbJ",
        "colab_type": "code",
        "colab": {}
      },
      "source": [
        "import pandas as pd"
      ],
      "execution_count": 0,
      "outputs": []
    },
    {
      "cell_type": "code",
      "metadata": {
        "id": "eaCyxE6rAP1E",
        "colab_type": "code",
        "outputId": "e83353ed-810f-4adc-a3a3-15e61207801b",
        "colab": {
          "base_uri": "https://localhost:8080/",
          "height": 402
        }
      },
      "source": [
        "dfs=pd.read_html('https://en.wikipedia.org/wiki/List_of_postal_codes_of_Canada:_M',match='Postal Code',na_values='Not assigned',keep_default_na=False)\n",
        "df = dfs[0]\n",
        "df=df.dropna()\n",
        "df"
      ],
      "execution_count": 0,
      "outputs": [
        {
          "output_type": "execute_result",
          "data": {
            "text/html": [
              "<div>\n",
              "<style scoped>\n",
              "    .dataframe tbody tr th:only-of-type {\n",
              "        vertical-align: middle;\n",
              "    }\n",
              "\n",
              "    .dataframe tbody tr th {\n",
              "        vertical-align: top;\n",
              "    }\n",
              "\n",
              "    .dataframe thead th {\n",
              "        text-align: right;\n",
              "    }\n",
              "</style>\n",
              "<table border=\"1\" class=\"dataframe\">\n",
              "  <thead>\n",
              "    <tr style=\"text-align: right;\">\n",
              "      <th></th>\n",
              "      <th>Postal Code</th>\n",
              "      <th>Borough</th>\n",
              "      <th>Neighborhood</th>\n",
              "    </tr>\n",
              "  </thead>\n",
              "  <tbody>\n",
              "    <tr>\n",
              "      <th>2</th>\n",
              "      <td>M3A</td>\n",
              "      <td>North York</td>\n",
              "      <td>Parkwoods</td>\n",
              "    </tr>\n",
              "    <tr>\n",
              "      <th>3</th>\n",
              "      <td>M4A</td>\n",
              "      <td>North York</td>\n",
              "      <td>Victoria Village</td>\n",
              "    </tr>\n",
              "    <tr>\n",
              "      <th>4</th>\n",
              "      <td>M5A</td>\n",
              "      <td>Downtown Toronto</td>\n",
              "      <td>Regent Park, Harbourfront</td>\n",
              "    </tr>\n",
              "    <tr>\n",
              "      <th>5</th>\n",
              "      <td>M6A</td>\n",
              "      <td>North York</td>\n",
              "      <td>Lawrence Manor, Lawrence Heights</td>\n",
              "    </tr>\n",
              "    <tr>\n",
              "      <th>6</th>\n",
              "      <td>M7A</td>\n",
              "      <td>Downtown Toronto</td>\n",
              "      <td>Queen's Park, Ontario Provincial Government</td>\n",
              "    </tr>\n",
              "    <tr>\n",
              "      <th>...</th>\n",
              "      <td>...</td>\n",
              "      <td>...</td>\n",
              "      <td>...</td>\n",
              "    </tr>\n",
              "    <tr>\n",
              "      <th>160</th>\n",
              "      <td>M8X</td>\n",
              "      <td>Etobicoke</td>\n",
              "      <td>The Kingsway, Montgomery Road, Old Mill North</td>\n",
              "    </tr>\n",
              "    <tr>\n",
              "      <th>165</th>\n",
              "      <td>M4Y</td>\n",
              "      <td>Downtown Toronto</td>\n",
              "      <td>Church and Wellesley</td>\n",
              "    </tr>\n",
              "    <tr>\n",
              "      <th>168</th>\n",
              "      <td>M7Y</td>\n",
              "      <td>East Toronto</td>\n",
              "      <td>Business reply mail Processing Centre, South C...</td>\n",
              "    </tr>\n",
              "    <tr>\n",
              "      <th>169</th>\n",
              "      <td>M8Y</td>\n",
              "      <td>Etobicoke</td>\n",
              "      <td>Old Mill South, King's Mill Park, Sunnylea, Hu...</td>\n",
              "    </tr>\n",
              "    <tr>\n",
              "      <th>178</th>\n",
              "      <td>M8Z</td>\n",
              "      <td>Etobicoke</td>\n",
              "      <td>Mimico NW, The Queensway West, South of Bloor,...</td>\n",
              "    </tr>\n",
              "  </tbody>\n",
              "</table>\n",
              "<p>103 rows × 3 columns</p>\n",
              "</div>"
            ],
            "text/plain": [
              "    Postal Code  ...                                       Neighborhood\n",
              "2           M3A  ...                                          Parkwoods\n",
              "3           M4A  ...                                   Victoria Village\n",
              "4           M5A  ...                          Regent Park, Harbourfront\n",
              "5           M6A  ...                   Lawrence Manor, Lawrence Heights\n",
              "6           M7A  ...        Queen's Park, Ontario Provincial Government\n",
              "..          ...  ...                                                ...\n",
              "160         M8X  ...      The Kingsway, Montgomery Road, Old Mill North\n",
              "165         M4Y  ...                               Church and Wellesley\n",
              "168         M7Y  ...  Business reply mail Processing Centre, South C...\n",
              "169         M8Y  ...  Old Mill South, King's Mill Park, Sunnylea, Hu...\n",
              "178         M8Z  ...  Mimico NW, The Queensway West, South of Bloor,...\n",
              "\n",
              "[103 rows x 3 columns]"
            ]
          },
          "metadata": {
            "tags": []
          },
          "execution_count": 2
        }
      ]
    },
    {
      "cell_type": "code",
      "metadata": {
        "id": "bNHksoI3KPHm",
        "colab_type": "code",
        "outputId": "3cb324a4-ee99-43e1-8e4f-93562bed7cd8",
        "colab": {
          "base_uri": "https://localhost:8080/",
          "height": 34
        }
      },
      "source": [
        "df.shape"
      ],
      "execution_count": 0,
      "outputs": [
        {
          "output_type": "execute_result",
          "data": {
            "text/plain": [
              "(103, 3)"
            ]
          },
          "metadata": {
            "tags": []
          },
          "execution_count": 3
        }
      ]
    },
    {
      "cell_type": "markdown",
      "metadata": {
        "id": "-BZvA1Jw5aRJ",
        "colab_type": "text"
      },
      "source": [
        "## 2. Download Geospatial Data and Join with previous Dataframe"
      ]
    },
    {
      "cell_type": "code",
      "metadata": {
        "id": "CV3KtYAaRBd2",
        "colab_type": "code",
        "outputId": "dc5d06ce-5291-4ce0-e531-92d42cf65956",
        "colab": {
          "base_uri": "https://localhost:8080/",
          "height": 608
        }
      },
      "source": [
        "!wget -O 'Geospatial_Coordinates.csv' http://cocl.us/Geospatial_data"
      ],
      "execution_count": 0,
      "outputs": [
        {
          "output_type": "stream",
          "text": [
            "--2020-06-15 21:20:04--  http://cocl.us/Geospatial_data\n",
            "Resolving cocl.us (cocl.us)... 119.81.168.75, 161.202.50.39, 119.81.168.76\n",
            "Connecting to cocl.us (cocl.us)|119.81.168.75|:80... connected.\n",
            "HTTP request sent, awaiting response... 301 Moved Permanently\n",
            "Location: https://cocl.us/Geospatial_data [following]\n",
            "--2020-06-15 21:20:04--  https://cocl.us/Geospatial_data\n",
            "Connecting to cocl.us (cocl.us)|119.81.168.75|:443... connected.\n",
            "HTTP request sent, awaiting response... 301 Moved Permanently\n",
            "Location: https://ibm.box.com/shared/static/9afzr83pps4pwf2smjjcf1y5mvgb18rr.csv [following]\n",
            "--2020-06-15 21:20:06--  https://ibm.box.com/shared/static/9afzr83pps4pwf2smjjcf1y5mvgb18rr.csv\n",
            "Resolving ibm.box.com (ibm.box.com)... 103.116.4.197\n",
            "Connecting to ibm.box.com (ibm.box.com)|103.116.4.197|:443... connected.\n",
            "HTTP request sent, awaiting response... 301 Moved Permanently\n",
            "Location: /public/static/9afzr83pps4pwf2smjjcf1y5mvgb18rr.csv [following]\n",
            "--2020-06-15 21:20:07--  https://ibm.box.com/public/static/9afzr83pps4pwf2smjjcf1y5mvgb18rr.csv\n",
            "Reusing existing connection to ibm.box.com:443.\n",
            "HTTP request sent, awaiting response... 301 Moved Permanently\n",
            "Location: https://ibm.ent.box.com/public/static/9afzr83pps4pwf2smjjcf1y5mvgb18rr.csv [following]\n",
            "--2020-06-15 21:20:07--  https://ibm.ent.box.com/public/static/9afzr83pps4pwf2smjjcf1y5mvgb18rr.csv\n",
            "Resolving ibm.ent.box.com (ibm.ent.box.com)... 103.116.4.201\n",
            "Connecting to ibm.ent.box.com (ibm.ent.box.com)|103.116.4.201|:443... connected.\n",
            "HTTP request sent, awaiting response... 302 Found\n",
            "Location: https://public.boxcloud.com/d/1/b1!2MCXJFrvZ72eHUfiE9Uvh7aEL8-zxUdADirQlBx4bye8lhPQ2UXp8Vp_MW573lWsvZ_DpCugcNUMoNiMea0CCoeXiFrR81sy5PpeJkdJoVUA1B8rigkGFTiyppsRZHzWvPM2RbtookICkkX1cf9iB-oE4LskK7n4kw4rAZRdYla5nRxdTcq5k8oB97Y9wbbWoeLyV--UP3WFEKTlBLQvW-_h9ZXXbX4W62EN5CbRoomnEfc_6nkjSqBiWtsuReJ-Hr0ofEyOIX0qlBpydnF3IUpGGYBZiEmgrHPzXUv6cAHzY0bl1juHZYMVLlDCWjN5pQBgZeGxU5rqt4Malnr8BdUiXMZor1DAdE7wnp7eb15VBTWWe5nyaDs7P1Bl4oIUqVOyJbm-Xq915ziny-4Mw4ZhofVCzGmyTv1ojSNktTX0XHfOFBIMbNz1A2_52uFD1WYaCef6u0Ge0R_xsdh6XnmwkhT1XbrAhwm5MGMMS85VfECipwf9dcZ3ddaSdvQAYyNVKRnkuq8muj_Ctutb_7lFuKlt8ZnnTyOXUuUiGymkJdcLQYD0ZTTny6GrgxBRFhkY80wf-GDTJPjGjb_Ublhwl2UldYuY4nF-IL85POmxaJ3o_9souKLfVkL4czWZQFV-1gPsy5wmJejrhoFLYaLqhWb7e133TCW6vBpjJhsQCtyVmcwzzJBCvPza0xFV3VdRffCJjXFTzSGueGvgPgU9i1XZ_YoX1_AocLJvIZEIUAUpV_RaT5DLP4ay8mT2U9btzwLtvdKxxZIymX6-yn-mtAZq9V00zeL5HTi9nR7EGRfRjURvu7H_6EbQkGn_neGbK8YizkalR4wf5ZBYXBUOgVKxJPxGmBj15JUS89DPxGseCM8POGwkh8_RpOa8ZUJyOMt1Bvqbh_HitktnbdoXb_TB0MGkpu481H9KXwGGWWc7olzX1hrU-30crqYI9VoAzdA66p3tb6QhyBokYuGrvHzixtTuX_iTu0wgjBpJRM34MubStXLQCSMlOCFUpiE5_hDAE2FuQc6XVlV8QDXrKkKr1cv-K3paIEf4_9ZGUzyypbUgtUoe3sdGsqyPsjLqlKnR6HNBc-RyrJ0B8hA_0zMb3fjisGKXa6TyEoQdvNFo7XozvS6q7V45G6Kp3BAoGJlLJhxBdLXlxnXZTONWEsvI3HI-EQzUZYuUdSbDLHGDfzyGVP02sgIAWX8MFbLc78xsDaaBR4iy04AEeQgBHzNI4MnHcW2k8Rh4hbwljWtIj8r53LiFeE95CVV6AI-ovyegJl7BjvFxe6qAd4dN0RMzSNcgfwd68Q-CRPAZN69Vkj0DciFBq2gFF9HNoJsJ5ZAXkDN-luRk2uc5udcrcT0svM1CMAeFvMhl7HlKWfU1H6ngucHdkCOI0j6f0Q3HyKsuRe3-Mbb1sgub9M7xmWccHyu2MZ7jKtGFDEcXCA../download [following]\n",
            "--2020-06-15 21:20:08--  https://public.boxcloud.com/d/1/b1!2MCXJFrvZ72eHUfiE9Uvh7aEL8-zxUdADirQlBx4bye8lhPQ2UXp8Vp_MW573lWsvZ_DpCugcNUMoNiMea0CCoeXiFrR81sy5PpeJkdJoVUA1B8rigkGFTiyppsRZHzWvPM2RbtookICkkX1cf9iB-oE4LskK7n4kw4rAZRdYla5nRxdTcq5k8oB97Y9wbbWoeLyV--UP3WFEKTlBLQvW-_h9ZXXbX4W62EN5CbRoomnEfc_6nkjSqBiWtsuReJ-Hr0ofEyOIX0qlBpydnF3IUpGGYBZiEmgrHPzXUv6cAHzY0bl1juHZYMVLlDCWjN5pQBgZeGxU5rqt4Malnr8BdUiXMZor1DAdE7wnp7eb15VBTWWe5nyaDs7P1Bl4oIUqVOyJbm-Xq915ziny-4Mw4ZhofVCzGmyTv1ojSNktTX0XHfOFBIMbNz1A2_52uFD1WYaCef6u0Ge0R_xsdh6XnmwkhT1XbrAhwm5MGMMS85VfECipwf9dcZ3ddaSdvQAYyNVKRnkuq8muj_Ctutb_7lFuKlt8ZnnTyOXUuUiGymkJdcLQYD0ZTTny6GrgxBRFhkY80wf-GDTJPjGjb_Ublhwl2UldYuY4nF-IL85POmxaJ3o_9souKLfVkL4czWZQFV-1gPsy5wmJejrhoFLYaLqhWb7e133TCW6vBpjJhsQCtyVmcwzzJBCvPza0xFV3VdRffCJjXFTzSGueGvgPgU9i1XZ_YoX1_AocLJvIZEIUAUpV_RaT5DLP4ay8mT2U9btzwLtvdKxxZIymX6-yn-mtAZq9V00zeL5HTi9nR7EGRfRjURvu7H_6EbQkGn_neGbK8YizkalR4wf5ZBYXBUOgVKxJPxGmBj15JUS89DPxGseCM8POGwkh8_RpOa8ZUJyOMt1Bvqbh_HitktnbdoXb_TB0MGkpu481H9KXwGGWWc7olzX1hrU-30crqYI9VoAzdA66p3tb6QhyBokYuGrvHzixtTuX_iTu0wgjBpJRM34MubStXLQCSMlOCFUpiE5_hDAE2FuQc6XVlV8QDXrKkKr1cv-K3paIEf4_9ZGUzyypbUgtUoe3sdGsqyPsjLqlKnR6HNBc-RyrJ0B8hA_0zMb3fjisGKXa6TyEoQdvNFo7XozvS6q7V45G6Kp3BAoGJlLJhxBdLXlxnXZTONWEsvI3HI-EQzUZYuUdSbDLHGDfzyGVP02sgIAWX8MFbLc78xsDaaBR4iy04AEeQgBHzNI4MnHcW2k8Rh4hbwljWtIj8r53LiFeE95CVV6AI-ovyegJl7BjvFxe6qAd4dN0RMzSNcgfwd68Q-CRPAZN69Vkj0DciFBq2gFF9HNoJsJ5ZAXkDN-luRk2uc5udcrcT0svM1CMAeFvMhl7HlKWfU1H6ngucHdkCOI0j6f0Q3HyKsuRe3-Mbb1sgub9M7xmWccHyu2MZ7jKtGFDEcXCA../download\n",
            "Resolving public.boxcloud.com (public.boxcloud.com)... 103.116.4.200\n",
            "Connecting to public.boxcloud.com (public.boxcloud.com)|103.116.4.200|:443... connected.\n",
            "HTTP request sent, awaiting response... 200 OK\n",
            "Length: 2891 (2.8K) [text/csv]\n",
            "Saving to: ‘Geospatial_Coordinates.csv’\n",
            "\n",
            "Geospatial_Coordina 100%[===================>]   2.82K  --.-KB/s    in 0s      \n",
            "\n",
            "2020-06-15 21:20:08 (363 MB/s) - ‘Geospatial_Coordinates.csv’ saved [2891/2891]\n",
            "\n"
          ],
          "name": "stdout"
        }
      ]
    },
    {
      "cell_type": "code",
      "metadata": {
        "id": "gur3bwKLVAJ-",
        "colab_type": "code",
        "outputId": "ee944902-6770-4fe4-f9bd-12071cbcc4a5",
        "colab": {
          "base_uri": "https://localhost:8080/",
          "height": 402
        }
      },
      "source": [
        "geodata=pd.read_csv('/content/Geospatial_Coordinates.csv')\n",
        "geodata"
      ],
      "execution_count": 0,
      "outputs": [
        {
          "output_type": "execute_result",
          "data": {
            "text/html": [
              "<div>\n",
              "<style scoped>\n",
              "    .dataframe tbody tr th:only-of-type {\n",
              "        vertical-align: middle;\n",
              "    }\n",
              "\n",
              "    .dataframe tbody tr th {\n",
              "        vertical-align: top;\n",
              "    }\n",
              "\n",
              "    .dataframe thead th {\n",
              "        text-align: right;\n",
              "    }\n",
              "</style>\n",
              "<table border=\"1\" class=\"dataframe\">\n",
              "  <thead>\n",
              "    <tr style=\"text-align: right;\">\n",
              "      <th></th>\n",
              "      <th>Postal Code</th>\n",
              "      <th>Latitude</th>\n",
              "      <th>Longitude</th>\n",
              "    </tr>\n",
              "  </thead>\n",
              "  <tbody>\n",
              "    <tr>\n",
              "      <th>0</th>\n",
              "      <td>M1B</td>\n",
              "      <td>43.806686</td>\n",
              "      <td>-79.194353</td>\n",
              "    </tr>\n",
              "    <tr>\n",
              "      <th>1</th>\n",
              "      <td>M1C</td>\n",
              "      <td>43.784535</td>\n",
              "      <td>-79.160497</td>\n",
              "    </tr>\n",
              "    <tr>\n",
              "      <th>2</th>\n",
              "      <td>M1E</td>\n",
              "      <td>43.763573</td>\n",
              "      <td>-79.188711</td>\n",
              "    </tr>\n",
              "    <tr>\n",
              "      <th>3</th>\n",
              "      <td>M1G</td>\n",
              "      <td>43.770992</td>\n",
              "      <td>-79.216917</td>\n",
              "    </tr>\n",
              "    <tr>\n",
              "      <th>4</th>\n",
              "      <td>M1H</td>\n",
              "      <td>43.773136</td>\n",
              "      <td>-79.239476</td>\n",
              "    </tr>\n",
              "    <tr>\n",
              "      <th>...</th>\n",
              "      <td>...</td>\n",
              "      <td>...</td>\n",
              "      <td>...</td>\n",
              "    </tr>\n",
              "    <tr>\n",
              "      <th>98</th>\n",
              "      <td>M9N</td>\n",
              "      <td>43.706876</td>\n",
              "      <td>-79.518188</td>\n",
              "    </tr>\n",
              "    <tr>\n",
              "      <th>99</th>\n",
              "      <td>M9P</td>\n",
              "      <td>43.696319</td>\n",
              "      <td>-79.532242</td>\n",
              "    </tr>\n",
              "    <tr>\n",
              "      <th>100</th>\n",
              "      <td>M9R</td>\n",
              "      <td>43.688905</td>\n",
              "      <td>-79.554724</td>\n",
              "    </tr>\n",
              "    <tr>\n",
              "      <th>101</th>\n",
              "      <td>M9V</td>\n",
              "      <td>43.739416</td>\n",
              "      <td>-79.588437</td>\n",
              "    </tr>\n",
              "    <tr>\n",
              "      <th>102</th>\n",
              "      <td>M9W</td>\n",
              "      <td>43.706748</td>\n",
              "      <td>-79.594054</td>\n",
              "    </tr>\n",
              "  </tbody>\n",
              "</table>\n",
              "<p>103 rows × 3 columns</p>\n",
              "</div>"
            ],
            "text/plain": [
              "    Postal Code   Latitude  Longitude\n",
              "0           M1B  43.806686 -79.194353\n",
              "1           M1C  43.784535 -79.160497\n",
              "2           M1E  43.763573 -79.188711\n",
              "3           M1G  43.770992 -79.216917\n",
              "4           M1H  43.773136 -79.239476\n",
              "..          ...        ...        ...\n",
              "98          M9N  43.706876 -79.518188\n",
              "99          M9P  43.696319 -79.532242\n",
              "100         M9R  43.688905 -79.554724\n",
              "101         M9V  43.739416 -79.588437\n",
              "102         M9W  43.706748 -79.594054\n",
              "\n",
              "[103 rows x 3 columns]"
            ]
          },
          "metadata": {
            "tags": []
          },
          "execution_count": 5
        }
      ]
    },
    {
      "cell_type": "code",
      "metadata": {
        "id": "86esGv9PV_TA",
        "colab_type": "code",
        "outputId": "6fd93c64-97fc-4047-8af8-16cc2f4e18f5",
        "colab": {
          "base_uri": "https://localhost:8080/",
          "height": 402
        }
      },
      "source": [
        "df = pd.merge(df,geodata,how='inner',on='Postal Code')\n",
        "df"
      ],
      "execution_count": 0,
      "outputs": [
        {
          "output_type": "execute_result",
          "data": {
            "text/html": [
              "<div>\n",
              "<style scoped>\n",
              "    .dataframe tbody tr th:only-of-type {\n",
              "        vertical-align: middle;\n",
              "    }\n",
              "\n",
              "    .dataframe tbody tr th {\n",
              "        vertical-align: top;\n",
              "    }\n",
              "\n",
              "    .dataframe thead th {\n",
              "        text-align: right;\n",
              "    }\n",
              "</style>\n",
              "<table border=\"1\" class=\"dataframe\">\n",
              "  <thead>\n",
              "    <tr style=\"text-align: right;\">\n",
              "      <th></th>\n",
              "      <th>Postal Code</th>\n",
              "      <th>Borough</th>\n",
              "      <th>Neighborhood</th>\n",
              "      <th>Latitude</th>\n",
              "      <th>Longitude</th>\n",
              "    </tr>\n",
              "  </thead>\n",
              "  <tbody>\n",
              "    <tr>\n",
              "      <th>0</th>\n",
              "      <td>M3A</td>\n",
              "      <td>North York</td>\n",
              "      <td>Parkwoods</td>\n",
              "      <td>43.753259</td>\n",
              "      <td>-79.329656</td>\n",
              "    </tr>\n",
              "    <tr>\n",
              "      <th>1</th>\n",
              "      <td>M4A</td>\n",
              "      <td>North York</td>\n",
              "      <td>Victoria Village</td>\n",
              "      <td>43.725882</td>\n",
              "      <td>-79.315572</td>\n",
              "    </tr>\n",
              "    <tr>\n",
              "      <th>2</th>\n",
              "      <td>M5A</td>\n",
              "      <td>Downtown Toronto</td>\n",
              "      <td>Regent Park, Harbourfront</td>\n",
              "      <td>43.654260</td>\n",
              "      <td>-79.360636</td>\n",
              "    </tr>\n",
              "    <tr>\n",
              "      <th>3</th>\n",
              "      <td>M6A</td>\n",
              "      <td>North York</td>\n",
              "      <td>Lawrence Manor, Lawrence Heights</td>\n",
              "      <td>43.718518</td>\n",
              "      <td>-79.464763</td>\n",
              "    </tr>\n",
              "    <tr>\n",
              "      <th>4</th>\n",
              "      <td>M7A</td>\n",
              "      <td>Downtown Toronto</td>\n",
              "      <td>Queen's Park, Ontario Provincial Government</td>\n",
              "      <td>43.662301</td>\n",
              "      <td>-79.389494</td>\n",
              "    </tr>\n",
              "    <tr>\n",
              "      <th>...</th>\n",
              "      <td>...</td>\n",
              "      <td>...</td>\n",
              "      <td>...</td>\n",
              "      <td>...</td>\n",
              "      <td>...</td>\n",
              "    </tr>\n",
              "    <tr>\n",
              "      <th>98</th>\n",
              "      <td>M8X</td>\n",
              "      <td>Etobicoke</td>\n",
              "      <td>The Kingsway, Montgomery Road, Old Mill North</td>\n",
              "      <td>43.653654</td>\n",
              "      <td>-79.506944</td>\n",
              "    </tr>\n",
              "    <tr>\n",
              "      <th>99</th>\n",
              "      <td>M4Y</td>\n",
              "      <td>Downtown Toronto</td>\n",
              "      <td>Church and Wellesley</td>\n",
              "      <td>43.665860</td>\n",
              "      <td>-79.383160</td>\n",
              "    </tr>\n",
              "    <tr>\n",
              "      <th>100</th>\n",
              "      <td>M7Y</td>\n",
              "      <td>East Toronto</td>\n",
              "      <td>Business reply mail Processing Centre, South C...</td>\n",
              "      <td>43.662744</td>\n",
              "      <td>-79.321558</td>\n",
              "    </tr>\n",
              "    <tr>\n",
              "      <th>101</th>\n",
              "      <td>M8Y</td>\n",
              "      <td>Etobicoke</td>\n",
              "      <td>Old Mill South, King's Mill Park, Sunnylea, Hu...</td>\n",
              "      <td>43.636258</td>\n",
              "      <td>-79.498509</td>\n",
              "    </tr>\n",
              "    <tr>\n",
              "      <th>102</th>\n",
              "      <td>M8Z</td>\n",
              "      <td>Etobicoke</td>\n",
              "      <td>Mimico NW, The Queensway West, South of Bloor,...</td>\n",
              "      <td>43.628841</td>\n",
              "      <td>-79.520999</td>\n",
              "    </tr>\n",
              "  </tbody>\n",
              "</table>\n",
              "<p>103 rows × 5 columns</p>\n",
              "</div>"
            ],
            "text/plain": [
              "    Postal Code           Borough  ...   Latitude  Longitude\n",
              "0           M3A        North York  ...  43.753259 -79.329656\n",
              "1           M4A        North York  ...  43.725882 -79.315572\n",
              "2           M5A  Downtown Toronto  ...  43.654260 -79.360636\n",
              "3           M6A        North York  ...  43.718518 -79.464763\n",
              "4           M7A  Downtown Toronto  ...  43.662301 -79.389494\n",
              "..          ...               ...  ...        ...        ...\n",
              "98          M8X         Etobicoke  ...  43.653654 -79.506944\n",
              "99          M4Y  Downtown Toronto  ...  43.665860 -79.383160\n",
              "100         M7Y      East Toronto  ...  43.662744 -79.321558\n",
              "101         M8Y         Etobicoke  ...  43.636258 -79.498509\n",
              "102         M8Z         Etobicoke  ...  43.628841 -79.520999\n",
              "\n",
              "[103 rows x 5 columns]"
            ]
          },
          "metadata": {
            "tags": []
          },
          "execution_count": 6
        }
      ]
    }
  ]
}